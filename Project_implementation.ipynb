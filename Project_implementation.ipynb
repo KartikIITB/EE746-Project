{
 "cells": [
  {
   "cell_type": "markdown",
   "metadata": {},
   "source": [
    "# Implementation of ANN:\n",
    "\n",
    "## Initializing the ANN for a given architecture:\n",
    "\n",
    "- $W$ and $b$ are the wights and biases for each layer respectively.\n",
    "- $Z$ are the input into each neuron before activation.\n",
    "- $A$ are the output of each neuron after activation \n",
    "\n",
    "Initialization:\n",
    "\n",
    "- ANN_architecture is a dictionary containing the number of neurons in each layer and their activation functions.\n",
    "- $W_l$ is initialized randomly to a size of $n_{l+1} \\times n_l$.\n",
    "- $b_l$ is initialized as zero of size $n_{l+1} \\times 1$."
   ]
  },
  {
   "cell_type": "code",
   "execution_count": 1,
   "metadata": {},
   "outputs": [],
   "source": [
    "# Importing required libraries.  \n",
    "\n",
    "import numpy as np\n",
    "from numpy import random\n",
    "import matplotlib.pyplot as plt"
   ]
  },
  {
   "cell_type": "code",
   "execution_count": 2,
   "metadata": {},
   "outputs": [],
   "source": [
    "# Initialization.\n",
    "\n",
    "def init_ANN(ANN_architecture, seed = 99):\n",
    "    np.random.seed(seed)\n",
    "\n",
    "    # Initialize parameters.\n",
    "    parameters = {}\n",
    "\n",
    "    for idx, layer in enumerate(ANN_architecture):\n",
    "        layer_idx = idx+1\n",
    "        \n",
    "        input_layer_size = layer['inputs']\n",
    "        output_layer_size = layer['outputs']\n",
    "\n",
    "        parameters['W' + str(layer_idx)] = random.randn(output_layer_size, input_layer_size)\n",
    "        parameters['b' + str(layer_idx)] = np.zeros((output_layer_size, 1))\n",
    "    \n",
    "    return parameters\n",
    "\n",
    "# Error function. (Mean Squared Error)\n",
    "\n",
    "def error_fn(Y_hat, Y):\n",
    "    N = Y_hat.shape[1]\n",
    "    return np.squeeze((1/(2*N))*np.dot((Y_hat - Y), (Y_hat - Y).T))\n",
    "\n"
   ]
  },
  {
   "cell_type": "markdown",
   "metadata": {},
   "source": [
    "## Forward Propagation:\n",
    "\n",
    "- $Z_l = W_{(l,l-1)}A_{l-1} + b_{l-1}$ \n",
    "- $A_l = sigmoid(Z_l)$"
   ]
  },
  {
   "cell_type": "code",
   "execution_count": 3,
   "metadata": {},
   "outputs": [],
   "source": [
    "# Activation functions.\n",
    "\n",
    "def linear(Z):\n",
    "    A = Z\n",
    "    return A\n",
    "\n",
    "def RelU(Z):\n",
    "    A = Z\n",
    "    A[A < 0] = 0\n",
    "    return A\n",
    "\n",
    "def sigmoid(Z):\n",
    "    A = 1/(1 + np.exp(-Z))\n",
    "    return A\n",
    "\n",
    "def activation_fn(Z, activation):\n",
    "    if activation == 'linear':\n",
    "        return linear(Z)\n",
    "    elif activation == 'sigmoid':\n",
    "        return sigmoid(Z)\n",
    "    elif activation == 'ReLU':\n",
    "        return RelU(Z)\n",
    "    else:\n",
    "        print('Activation function not recognized.')\n",
    "\n",
    "\n",
    "# Derivatives of activation functions.\n",
    "\n",
    "def lin_der(Z, dA): # dZ = dA*(derivative of activation function at Z)\n",
    "    dZ = dA\n",
    "    return dZ\n",
    "\n",
    "def ReLU_der(Z, dA): # dZ = dA*(derivative of activation function at Z)\n",
    "    dZ = dA\n",
    "    dZ[dZ < 0] = 0\n",
    "    return dZ\n",
    "\n",
    "def sig_der(Z, dA): # dZ = dA*(derivative of activation function at Z)\n",
    "    der_sig_at_Z = sigmoid(Z)*(1 - sigmoid(Z))\n",
    "    dZ = dA*(der_sig_at_Z)\n",
    "    return dZ\n",
    "\n",
    "def activation_fn_backprop(Z, dA, activation):\n",
    "    if activation == 'linear':\n",
    "        return lin_der(Z, dA)\n",
    "    elif activation == 'sigmoid':\n",
    "        return sig_der(Z, dA)\n",
    "    elif activation == 'ReLU':\n",
    "        return ReLU_der(Z, dA)\n",
    "    else:\n",
    "        print('Activation function not recognized.')\n",
    "    "
   ]
  },
  {
   "cell_type": "code",
   "execution_count": 4,
   "metadata": {},
   "outputs": [],
   "source": [
    "# Feed-forward function. (Single layer)\n",
    "\n",
    "def feed_forward(A_prev, W_curr, b_curr, activation):\n",
    "    Z_curr = np.dot(W_curr, A_prev) + b_curr\n",
    "    A_curr = activation_fn(Z_curr, activation)\n",
    "    return (Z_curr, A_curr)\n",
    "\n",
    "# Forward propagation function. (Multi layered)\n",
    "\n",
    "def forward_prop(X, Y, parameters, ANN_architecture):\n",
    "    # Initializing cache and A_prev. \n",
    "    cache = {}\n",
    "    A_curr = X\n",
    "\n",
    "\n",
    "    # Run forward propagation over all layers.\n",
    "    for idx, layer in enumerate(ANN_architecture):\n",
    "        layer_idx = idx+1\n",
    "        A_prev = A_curr\n",
    "        W_curr = parameters['W' + str(layer_idx)]\n",
    "        b_curr = parameters['b' + str(layer_idx)]\n",
    "        activation = layer['activation']\n",
    "\n",
    "        Z_curr, A_curr = feed_forward(A_prev, W_curr, b_curr, activation) \n",
    "\n",
    "        cache['A' + str(idx)] = A_prev\n",
    "        cache['Z' + str(layer_idx)] = Z_curr\n",
    "    \n",
    "    error = error_fn(A_curr, Y)\n",
    "\n",
    "    return (error, cache, A_curr)"
   ]
  },
  {
   "cell_type": "markdown",
   "metadata": {},
   "source": [
    "## Backward Propagation:\n",
    "\n",
    "- Given $W$, $b$, $\\hat{Y}$, $Y$ (expected output) and $X$, we find $\\frac{\\partial E}{\\partial W_{i_l, j_{l-1}}}$ and $\\frac{\\partial E}{\\partial b_{i_l}}$, where $E$ is the \"$\\textit{mean squared error}$\".\n",
    "- From gradient descent, $\\Delta W_{i_l, j_{l-1}} = -\\eta*\\frac{\\partial E}{\\partial W_{i_l, j_{l-1}}}$ and $\\Delta b_{i_l} = -\\eta*\\frac{\\partial E}{\\partial b_{i_l}}$, where $\\eta$ is the \"$\\textit{learning rate}$\". $\\eta$ is a hyperparameter of our choice.\n",
    "- Let $\\delta_{i_l} = \\frac{\\partial E}{\\partial Z_{i_l}}$. \n",
    "\n",
    "Here:\n",
    "- $\\delta_{L} = \\frac{\\partial E}{\\partial A_{L}} = y-\\hat{y}$\n",
    "- $\\frac{\\partial E}{\\partial W_{i_l, j_{l-1}}} =  \\frac{\\partial E}{\\partial A_{i_l}}\\frac{\\partial A_{i_l}}{\\partial Z_{i_l}}\\frac{\\partial Z_{i_l}}{\\partial W_{i_l, j_{l-1}}} = \\delta_{i_l}\\sigma'(Z_{i_l})A_{j_{l-1}}$.\n",
    "- $\\frac{\\partial E}{\\partial b_{i_l}} = \\frac{1}{N}\\sum_{i_{l} = 1}^{n_{l}}Z_{i_l}$\n",
    "- $\\Delta W_{i_l, j_{l-1}} = -\\eta\\delta_{i_l}\\sigma'(Z_{i_l})A_{j_{l-1}}$.\n",
    "- $\\Delta b_{i_l} = -\\eta\\frac{1}{N}\\sum_{i_{l} = 1}^{n_{l}}A_{i_l}$\n",
    "- $\\delta_{j_{l}} = \\sum_{i_{l+1} = 1}^{n_{l+1}}W_{i_{l+1}, j_{l}}\\sigma'(Z_{i_{l+1}})A_{j_{l-1}}$, for hidden layers."
   ]
  },
  {
   "cell_type": "code",
   "execution_count": 5,
   "metadata": {},
   "outputs": [],
   "source": [
    "# Backprop function. (Single layer)\n",
    "\n",
    "def back_prop_single(dA_curr, Z_curr, A_prev, W_curr, activation): # delta = dE/dZ_next\n",
    "     # Normalization.\n",
    "     N = A_prev.shape[1]\n",
    "\n",
    "     # dA = dE/dA, dZ = dE/dZ, dW = dE/dW, db = dE/db.\n",
    "     dZ_curr = activation_fn_backprop(Z_curr, dA_curr, activation)\n",
    "     \n",
    "     dW_curr = np.dot(dZ_curr, A_prev.T)/N # dE/dW = dE/dX*dX/dW\n",
    "     db_curr = np.sum(dZ_curr, axis = 1, keepdims = True)/N #dE/db = dE/dX*dX/db\n",
    "     dA_prev = np.dot(W_curr.T, dZ_curr) # dE/dZ_prev = delta_prev\n",
    "\n",
    "     return dW_curr, db_curr, dA_prev\n",
    "\n",
    "# Backprop function. (Multiple layered.\n",
    "def back_prop(Y_hat, Y, parameters, cache, ANN_architecture):\n",
    "     #Initialize gradients and dA_prev.\n",
    "     gradients = {}\n",
    "     dA_prev = Y_hat - Y\n",
    "     \n",
    "     for layer_idx_prev, layer in reversed(list(enumerate(ANN_architecture))):\n",
    "          layer_idx_curr = layer_idx_prev+1\n",
    "          dA_curr = dA_prev\n",
    "\n",
    "          Z_curr = cache['Z' + str(layer_idx_curr)]\n",
    "          A_prev = cache['A' + str(layer_idx_prev)]\n",
    "          W_curr = parameters['W' + str(layer_idx_curr)]\n",
    "          activation_curr = layer['activation']\n",
    "\n",
    "          dW_curr, db_curr, dA_prev = back_prop_single(dA_curr, Z_curr, A_prev, W_curr, activation_curr)\n",
    "\n",
    "          gradients['dW' + str(layer_idx_curr)] = dW_curr\n",
    "          gradients['db' + str(layer_idx_curr)] = db_curr\n",
    "     \n",
    "     return gradients\n"
   ]
  },
  {
   "cell_type": "code",
   "execution_count": 6,
   "metadata": {},
   "outputs": [],
   "source": [
    "# Weight Update function.\n",
    "\n",
    "def update(ANN_architecture, parameters, gradients, eta):\n",
    "    # Update parameters.\n",
    "    for layer_idx, _ in enumerate(ANN_architecture, 1):\n",
    "        parameters['W' + str(layer_idx)] -= eta * gradients['dW' + str(layer_idx)]        \n",
    "        parameters['b' + str(layer_idx)] -= eta * gradients['db' + str(layer_idx)]\n",
    "    \n",
    "    return parameters"
   ]
  },
  {
   "cell_type": "markdown",
   "metadata": {},
   "source": [
    "## Weight Perturbation:\n",
    "\n",
    "- we perturb weight weight $W_{i_l, j_{l-1}}$ by $pert_{i_l, j_{l-1}}$. \n",
    "- Next we find $y$ using forward propagation. Then, we find $\\frac{\\partial E}{\\partial W_{i_l, j_{l-1}}} = \\frac{E(W_{i_l, j_{l-1}} + pert_{i_l, j_{l-1}}) - E(W_{i_l, j_{l-1}})}{pert_{i_l, j_{l-1}}}$.\n",
    "- Next, $\\Delta W_{i_l, j_{l-1}} = -\\eta*\\frac{\\partial E}{\\partial W_{i_l, j_{l-1}}}$, as calculated above.\n",
    "- We repeat the above process for all $W_{i_l, j_{l-1}}$ while the error is greater than the convergence criteria. (0.01 in our case)."
   ]
  },
  {
   "cell_type": "code",
   "execution_count": 7,
   "metadata": {},
   "outputs": [],
   "source": [
    "# Weight Perterbation function. (One round of perturbation)\n",
    "\n",
    "def weight_pert(parameters, X, Y, E, pert, ANN_architecture): # pert is the perterbation strength. conv is the convergence criteria\n",
    "    # Initialize gradients and perturbed parameters.\n",
    "    gradients = {}\n",
    "    parameters_pert = parameters\n",
    "    for layer_idx, layer in enumerate(ANN_architecture, 1):\n",
    "        gradients['dW' + str(layer_idx)] = np.zeros(parameters['W' + str(layer_idx)].shape)\n",
    "        gradients['db' + str(layer_idx)] = np.zeros(parameters['b' + str(layer_idx)].shape)\n",
    "\n",
    "    # Run weight perturbation.\n",
    "    for layer_idx, layer in enumerate(ANN_architecture, 1):\n",
    "        for weight_idx, _ in np.ndenumerate(parameters['W' + str(layer_idx)]):\n",
    "            E_pert = 0\n",
    "            parameters_pert['W' + str(layer_idx)][weight_idx] += pert\n",
    "            E_pert, _, _ = forward_prop(X, Y, parameters_pert, ANN_architecture)\n",
    "            del_E = E_pert - E\n",
    "            gradients['dW' + str(layer_idx)][weight_idx] = del_E/pert\n",
    "            #print(gradients['dW' + str(layer_idx)][weight_idx])\n",
    "        for bias_idx, _ in np.ndenumerate(parameters['b' + str(layer_idx)]):\n",
    "            parameters_pert['b' + str(layer_idx)][bias_idx] += pert\n",
    "            E_pert, _, _ = forward_prop(X, Y, parameters_pert, ANN_architecture)\n",
    "            del_E = E_pert - E\n",
    "            gradients['db' + str(layer_idx)][bias_idx] = del_E/pert\n",
    "\n",
    "\n",
    "    return gradients\n"
   ]
  },
  {
   "cell_type": "markdown",
   "metadata": {},
   "source": [
    "## Training the ANN:\n",
    " \n",
    "We define a train function which takes in the ANN_architecture, X, $\\hat{Y}$, epochs and eta and returns the output after training and the error after each epoch."
   ]
  },
  {
   "cell_type": "code",
   "execution_count": 8,
   "metadata": {},
   "outputs": [],
   "source": [
    "# Training using backprop.\n",
    " \n",
    "def train_backprop(ANN_architecture, X, Y, epochs, eta):\n",
    "    # Initialize weights and errors.\n",
    "    parameters = init_ANN(ANN_architecture, 1)\n",
    "    errors = []\n",
    "\n",
    "    # Train.\n",
    "    for ep in range(epochs):\n",
    "        error, cache, Y_hat = forward_prop(X, Y, parameters, ANN_architecture)\n",
    "        errors.append(error)\n",
    "\n",
    "        gradients = back_prop(Y_hat, Y, parameters, cache, ANN_architecture)\n",
    "        parameters = update(ANN_architecture, parameters, gradients, eta)\n",
    "\n",
    "    return parameters, np.asarray(errors)\n",
    "\n",
    "# Training using weight perturbation.\n",
    "\n",
    "def train_pert(ANN_architecture, X, Y, epochs, pert, eta):\n",
    "    # Initialize weights and errors.\n",
    "    parameters = init_ANN(ANN_architecture, 1)\n",
    "    errors = []\n",
    "\n",
    "    # Train.\n",
    "    for ep in range(epochs):\n",
    "        error, cache, Y_hat = forward_prop(X, Y, parameters, ANN_architecture)\n",
    "        errors.append(error)\n",
    "\n",
    "        gradients = weight_pert(parameters, X, Y, error, pert, ANN_architecture)\n",
    "        parameters = update(ANN_architecture, parameters, gradients, eta)\n",
    "\n",
    "    return parameters, np.asarray(errors)\n",
    "\n",
    "# Testing.\n",
    "\n",
    "def test(X, Y, parameters, ANN_architecture):\n",
    "    error, _, Y = forward_prop(X, Y, parameters, ANN_architecture)\n",
    "    Y[Y > 0.5] = 1\n",
    "    Y[Y <= 0.5] = 0\n",
    "    return Y, error"
   ]
  },
  {
   "cell_type": "markdown",
   "metadata": {},
   "source": [
    "## Feed-forward XOR network:"
   ]
  },
  {
   "cell_type": "code",
   "execution_count": 9,
   "metadata": {},
   "outputs": [],
   "source": [
    "# Feed-forward XOR. (Main 1)\n",
    "\n",
    "ANN_architecture = [{'inputs':2, 'outputs':2, 'activation':'sigmoid'}, {'inputs':2, 'outputs':1, 'activation':'linear'}]\n",
    "X = np.array([[0, 0, 1, 1], [0, 1, 0, 1]]) \n",
    "Y = np.array([[0, 1, 1, 0]])"
   ]
  },
  {
   "cell_type": "code",
   "execution_count": 10,
   "metadata": {},
   "outputs": [
    {
     "name": "stdout",
     "output_type": "stream",
     "text": [
      "[[1. 0. 0. 1.]]\n",
      "[[1. 0. 0. 1.]]\n"
     ]
    },
    {
     "data": {
      "text/plain": [
       "<matplotlib.legend.Legend at 0x2b6089b2490>"
      ]
     },
     "execution_count": 10,
     "metadata": {},
     "output_type": "execute_result"
    },
    {
     "data": {
      "image/png": "[encoded data removed]",
      "text/plain": [
       "<Figure size 432x288 with 1 Axes>"
      ]
     },
     "metadata": {
      "needs_background": "light"
     },
     "output_type": "display_data"
    }
   ],
   "source": [
    "parameters_bp, errors_bp = train_backprop(ANN_architecture, X, Y, 3000, 0.3)\n",
    "Y_bp, E_bp = test(np.array([[1, 1, 0, 0], [0, 1, 0, 1]]), np.array([[1, 0, 0, 1]]), parameters_bp, ANN_architecture)\n",
    "plt.plot(range(3000), errors_bp)\n",
    "print(Y_bp)\n",
    "parameters_pert, errors_pert = train_pert(ANN_architecture, X, Y, 3000, 0.0001, 0.3)\n",
    "Y_pert, E_pert = test(np.array([[1, 1, 0, 0], [0, 1, 0, 1]]), np.array([[1, 0, 0, 1]]), parameters_pert, ANN_architecture)\n",
    "print(Y_bp)\n",
    "plt.plot(range(3000), errors_pert)\n",
    "plt.legend(['backprop err', 'weight pert err'])"
   ]
  }
 ],
 "metadata": {
  "interpreter": {
   "hash": "096806d1539b157da8138530fbb8d38015718dd9cd3706ea38d3c1d7b06ac51f"
  },
  "kernelspec": {
   "display_name": "Python 3.8.3 64-bit ('base': conda)",
   "name": "python3"
  },
  "language_info": {
   "codemirror_mode": {
    "name": "ipython",
    "version": 3
   },
   "file_extension": ".py",
   "mimetype": "text/x-python",
   "name": "python",
   "nbconvert_exporter": "python",
   "pygments_lexer": "ipython3",
   "version": "3.8.3"
  },
  "orig_nbformat": 4
 },
 "nbformat": 4,
 "nbformat_minor": 2
}
